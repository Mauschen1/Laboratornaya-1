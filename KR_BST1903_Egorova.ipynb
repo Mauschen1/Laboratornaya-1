{
 "cells": [
  {
   "cell_type": "markdown",
   "id": "cardiovascular-guarantee",
   "metadata": {},
   "source": [
    "# Курсовая работа по дисциплине \"Структуры и алгоритмы обработки данных\""
   ]
  },
  {
   "cell_type": "markdown",
   "id": "beautiful-sixth",
   "metadata": {},
   "source": [
    "Выполнила студентка групы БСТ1903\n",
    "> Егорова Юлия"
   ]
  },
  {
   "cell_type": "markdown",
   "id": "silent-front",
   "metadata": {},
   "source": [
    "## Задача 1. «Треугольник с максимальным периметром»"
   ]
  },
  {
   "cell_type": "markdown",
   "id": "unsigned-tenant",
   "metadata": {},
   "source": [
    "Массив A состоит из целых положительных чисел - длин отрезков. Составьте из трех отрезков такой треугольник, чтобы его периметр был максимально возможным. Если невозможно\n",
    "составить треугольник с положительной площадью - функция возвращает 0."
   ]
  },
  {
   "cell_type": "code",
   "execution_count": 5,
   "id": "precise-builder",
   "metadata": {},
   "outputs": [
    {
     "name": "stdout",
     "output_type": "stream",
     "text": [
      "Введите длину массива: 4\n",
      "1\n",
      "2\n",
      "3\n",
      "4\n",
      "Периметр треугольника равен:  9\n"
     ]
    }
   ],
   "source": [
    "def insert(arr, length):\n",
    "    for i in range(length):\n",
    "        key= arr[i]\n",
    "        j = i - 1\n",
    "        while j >= 0 and arr[j] > key:\n",
    "            arr[j + 1] = arr[j]\n",
    "            j -= 1\n",
    "        arr[j + 1] = key      \n",
    "def perimeter(a, b, c):\n",
    "    if (a+b)>c and (a+c)>b and (b+c)>a:\n",
    "        return int(a+b+c)\n",
    "    else:\n",
    "        return 0\n",
    "length = int(input('Введите длину массива: ')) # Вводим длину массива с клавиатуры\n",
    "mass = []\n",
    "for i in range(length):\n",
    "    mass.append(int(input())) # Добавление элементов в массив\n",
    "insert(mass, length)\n",
    "for i in range(length-2):\n",
    "    if perimeter(mass[i], mass[i+1], mass[i+2])>0:\n",
    "        print(\"Периметр треугольника равен: \", perimeter(mass[i], mass[i+1], mass[i+2]))\n",
    "        break"
   ]
  },
  {
   "cell_type": "markdown",
   "id": "minimal-central",
   "metadata": {},
   "source": [
    "# Задача № 2"
   ]
  },
  {
   "cell_type": "markdown",
   "id": "linear-storage",
   "metadata": {},
   "source": [
    "Дан массив неотрицательных целых чисел nums. Расположите их в таком порядке, чтобы\n",
    "вместе они образовали максимально возможное число.\n",
    "> Замечание: Результат может быть очень большим числом, поэтому представьте его как\n",
    "string, а не integer."
   ]
  },
  {
   "cell_type": "code",
   "execution_count": 103,
   "id": "greatest-bradley",
   "metadata": {},
   "outputs": [],
   "source": [
    "def generateArr_2(size):\n",
    "    if size<1: size=1\n",
    "    elif size>100: size=100\n",
    "    arr=[]\n",
    "    for i in range(size):\n",
    "        arr.append(random.randint(0,10**9))\n",
    "    return arr"
   ]
  },
  {
   "cell_type": "code",
   "execution_count": 104,
   "id": "flying-swaziland",
   "metadata": {},
   "outputs": [],
   "source": [
    "#Функция возвращает true, если первое число больше второго\n",
    "def value1_bigger(int_val1, int_val2):\n",
    "    val1=str(int_val1)\n",
    "    val2=str(int_val2)\n",
    "    \n",
    "    \n",
    "    if int(val1+val2)>int(val2+val1):\n",
    "        return True\n",
    "    else:\n",
    "        return False"
   ]
  },
  {
   "cell_type": "code",
   "execution_count": 105,
   "id": "returning-monster",
   "metadata": {},
   "outputs": [],
   "source": [
    "def exercise_2():\n",
    "    # Для ввода массива:\n",
    "    arr=[34323,3432]\n",
    "    # Для генерации массива:\n",
    "    # arr=generateArr_2(10)\n",
    "    print('Исходный массив:\\n\\n A =',arr)\n",
    "    \n",
    "    max_val=\"\"\n",
    "\n",
    "    for i in range(len(arr)-1):\n",
    "        max_elem=arr[i]\n",
    "        max_index=i\n",
    "\n",
    "        for j in range(i+1, len(arr)):\n",
    "            if value1_bigger(arr[j],max_elem):\n",
    "                max_elem=arr[j]\n",
    "                max_index=j\n",
    "        \n",
    "        arr[max_index],arr[i]=arr[i],arr[max_index]\n",
    "\n",
    "    for i in range(len(arr)):\n",
    "        max_val+=str(arr[i])\n",
    "\n",
    "    print(\"\\nОтсортированный массив:\\n\\n A =\",arr)\n",
    "    print(\"\\nМаксимально возможное число:\\n\\n\",max_val)"
   ]
  },
  {
   "cell_type": "markdown",
   "id": "standing-nylon",
   "metadata": {},
   "source": [
    "# Задача № 3\n",
    "## Дана матрица mat размером m * n, значения целочисленные. Напишите функцию, сортирующую каждую диагональ матрицы по возрастанию и возвращающую получившуюся матрицу."
   ]
  },
  {
   "cell_type": "code",
   "execution_count": null,
   "id": "fantastic-purpose",
   "metadata": {},
   "outputs": [],
   "source": [
    "import numpy\n",
    "def per_mas(n, m):\n",
    "    for i in range(n):\n",
    "        for j in range(m):\n",
    "            yield i, j\n",
    "m, n= map(int, input('Введите m и n: ').split(' '))\n",
    "print(\"Неотсортированная матрица: \")\n",
    "mass = numpy.random.random_integers(0, 20, size=(m, n))\n",
    "print(mass)\n",
    "for i, j in per_mas(len(mass[0]), len(mass)):\n",
    "    k=j\n",
    "    l=i\n",
    "    while k<len(mass[0]) and l<len(mass):\n",
    "        if mass[i][j]>mass[l][k]:\n",
    "            mass[i][j], mass[l][k]=mass[l][k], mass[i][j]\n",
    "        k=k+1\n",
    "        l=l+1\n",
    "            \n",
    "print(\"Отсортированная матрица: \")\n",
    "print(mass)"
   ]
  },
  {
   "cell_type": "code",
   "execution_count": 133,
   "id": "solved-orchestra",
   "metadata": {},
   "outputs": [
    {
     "name": "stdout",
     "output_type": "stream",
     "text": [
      "Введите m и n: 4 4\n",
      "Неотсортированная матрица: \n",
      "24 22 20 76\n",
      "17 78 90 78\n",
      "84 70 10 99\n",
      "53 55 45 97\n",
      "\n",
      "Отсортированная матрица: \n",
      "10 22 20 53\n",
      "17 24 70 78\n",
      "84 76 78 99\n",
      "90 55 45 97\n"
     ]
    }
   ],
   "source": [
    "m, n= map(int, input('Введите m и n: ').split(' '))\n",
    "print(\"Неотсортированная матрица: \")\n",
    "a =[[randint(10, 99) for j in range(m)] for i in range(n)]\n",
    "for row in a:\n",
    "    print(' '.join([str(elem) for elem in row]))\n",
    "x, y = [], []    \n",
    "for i in range(n):\n",
    "    for j in range(m):\n",
    "        if i == j:\n",
    "            x.append(a[i][j])\n",
    "        elif j == m - 1 - i:\n",
    "            y.append(a[i][j])\n",
    "x = sorted(x)\n",
    "y = sorted(y)\n",
    "print()\n",
    "print(\"Отсортированная матрица: \")\n",
    "for i in range(n):\n",
    "    for j in range(m):\n",
    "        if i == j:\n",
    "            a[i][j] = min(x)\n",
    "            x.remove(min(x))\n",
    "        elif  j == m - 1 - i:\n",
    "            a[i][j] = min(y)\n",
    "            y.remove(min(y))\n",
    "for row in a:\n",
    "    print(' '.join([str(elem) for elem in row]))"
   ]
  },
  {
   "cell_type": "markdown",
   "id": "polyphonic-equipment",
   "metadata": {},
   "source": [
    "# Задача № 1"
   ]
  },
  {
   "cell_type": "markdown",
   "id": "desirable-dictionary",
   "metadata": {},
   "source": [
    "Даны две строки: s1 и s2 с одинаковым размером, проверьте, может ли\n",
    "некоторая перестановка строки s1 “победить” некоторую перестановку\n",
    "строки s2 или наоборот.\n",
    "Строка x может “победить” строку y (обе имеют размер n), если x[i]> = y\n",
    "[i] (в алфавитном порядке) для всех i от 0 до n-1."
   ]
  },
  {
   "cell_type": "code",
   "execution_count": 63,
   "id": "critical-orbit",
   "metadata": {},
   "outputs": [
    {
     "data": {
      "text/plain": [
       "True"
      ]
     },
     "execution_count": 63,
     "metadata": {},
     "output_type": "execute_result"
    }
   ],
   "source": [
    "def St_win(str1, str2):\n",
    "    st1=list(str1)\n",
    "    st2=list(str2)\n",
    "    l=len(st1)\n",
    "    st1.sort()\n",
    "    st2.sort()\n",
    "    i=0\n",
    "    if len(st1)!= len(st2):\n",
    "        return \"Строки разной длины\"\n",
    "    while i<l and st1[i]==st2[i]:\n",
    "        i+=1\n",
    "    if i == l:\n",
    "        return True\n",
    "    if st1[0]>st2[0]:\n",
    "        for k in range(len(st1)):\n",
    "            if(st1[k]<st2[k]):\n",
    "                return False\n",
    "        return True\n",
    "    else:\n",
    "        for k in range(len(st2)):\n",
    "            if(st2[k]<st1[k]):\n",
    "                return False\n",
    "        return True\n",
    "\n",
    "\n",
    "St_win('abc','xya')"
   ]
  },
  {
   "cell_type": "markdown",
   "id": "advance-whole",
   "metadata": {},
   "source": [
    "# Задача № 2"
   ]
  },
  {
   "cell_type": "markdown",
   "id": "developing-optimum",
   "metadata": {},
   "source": [
    "Дана строка s, вернуть самую длинную полиндромную подстроку в s."
   ]
  },
  {
   "cell_type": "code",
   "execution_count": 2,
   "id": "physical-brook",
   "metadata": {},
   "outputs": [
    {
     "name": "stdout",
     "output_type": "stream",
     "text": [
      "Введите строку: абвгддгвф\n",
      "Самая длинная палиндромная строка:\n",
      "вгддгв\n"
     ]
    }
   ],
   "source": [
    "def palindrome(x):\n",
    "    if len(x) <= 1: ## Возвращает True, если строка является палиндромом\n",
    "        return False\n",
    "    return x == x[::-1] ## Сравнивает строку с обратной строкой\n",
    "def longest_palindrome(s):\n",
    "    last = len(s)\n",
    "    lst = [] ## Объявление подстроки\n",
    "    for i in range(last):\n",
    "        for j in range(i, last): ## Цикл, идущий от i до последнего элемента. (не от i+1 до последнего)\n",
    "            b = s[i:j+1]  ## Разбивка исходной строки для получения подстроки и проверка, является ли она паллиндромом или нет.\n",
    "            if palindrome(b):\n",
    "                lst.append(b) \n",
    "            else:\n",
    "                continue\n",
    "    return lst[0] ## Возвращение самого длинного палиндрома\n",
    "st = input(\"Введите строку: \")\n",
    "print(\"Самая длинная палиндромная строка:\")\n",
    "print(longest_palindrome(st))"
   ]
  },
  {
   "cell_type": "markdown",
   "id": "formal-industry",
   "metadata": {},
   "source": [
    "# Задача № 3"
   ]
  },
  {
   "cell_type": "markdown",
   "id": "dutch-performance",
   "metadata": {},
   "source": [
    "Вернуть количество отдельных непустых подстрок текста, которые могут\n",
    "быть записаны как конкатенация некоторой строки с самой собой (т.е. она\n",
    "может быть записана, как a + a, где a - некоторая строка)."
   ]
  },
  {
   "cell_type": "code",
   "execution_count": 114,
   "id": "general-discussion",
   "metadata": {},
   "outputs": [
    {
     "name": "stdout",
     "output_type": "stream",
     "text": [
      "Введите строку: abcabcabc\n",
      "Введите подстроку: abc\n",
      "3\n"
     ]
    }
   ],
   "source": [
    "s = input(\"Введите строку: \")\n",
    "sb = input(\"Введите подстроку: \")\n",
    "results = 0\n",
    "sub_len = len(sb)\n",
    "for i in range(len(s)):\n",
    "    if s[i:i+sub_len] == sb:\n",
    "        results += 1\n",
    "print(results)"
   ]
  },
  {
   "cell_type": "code",
   "execution_count": 117,
   "id": "increasing-alloy",
   "metadata": {},
   "outputs": [
    {
     "data": {
      "text/plain": [
       "({'abcabc', 'bcabca', 'cabcab'}, 3)"
      ]
     },
     "execution_count": 117,
     "metadata": {},
     "output_type": "execute_result"
    }
   ],
   "source": [
    "def Podstroki(str1):\n",
    "    rez=set()\n",
    "    for i in range(len(str1)-1):\n",
    "        k=i\n",
    "        for j in range(i+1, len(str1)):\n",
    "            l=j\n",
    "            m=j\n",
    "            while l<len(str1) and k<m and str1[k]==str1[l]:\n",
    "                k+=1\n",
    "                l+=1\n",
    "            if k==m:\n",
    "                    rez.add(str1[i:l])\n",
    "                    break\n",
    "    return rez, len(rez)\n",
    "Podstroki(\"abcabcabc\")"
   ]
  },
  {
   "cell_type": "markdown",
   "id": "operating-leader",
   "metadata": {},
   "source": [
    "# Задача «Стопки монет»"
   ]
  },
  {
   "cell_type": "markdown",
   "id": "residential-chassis",
   "metadata": {},
   "source": [
    "На столе стоят 3n стопок монет. Вы и ваши друзья Алиса и Боб забираете стопки монет по\n",
    "следующему алгоритму:\n",
    "1. Вы выбираете 3 стопки монет из оставшихся на столе.\n",
    "2. Алиса забирает себе стопку с максимальным количеством монет.\n",
    "3. Вы забираете одну из двух оставшихся стопок.\n",
    "4. Боб забирает последнюю стопку.\n",
    "5. Если еще остались стопки, то действия повторяются с первого шага\n",
    "\n",
    "Дан массив целых положительных чисел piles. Напишите функцию, возвращающую максимальное число монет, которое вы можете получить."
   ]
  },
  {
   "cell_type": "code",
   "execution_count": 67,
   "id": "chronic-marketplace",
   "metadata": {},
   "outputs": [
    {
     "name": "stdout",
     "output_type": "stream",
     "text": [
      "18\n"
     ]
    }
   ],
   "source": [
    "## в трикоинс два самых больших элемента и один маленький. Цикл идет до тех пор, пока существует массив\n",
    "def Coins_max(arr):\n",
    "    me = 0\n",
    "    while len(arr) > 0:\n",
    "        threeCoins = []\n",
    "        for i in range(2): \n",
    "            threeCoins.append(arr.pop(arr.index(max(arr)))) ## берем максимальный элемент\n",
    "        threeCoins.append(arr.pop(arr.index(min(arr)))) ## берем минимальны элемент\n",
    "        me += threeCoins[1] ## считаем кол-во монет\n",
    "    return me\n",
    "print(Coins_max([9, 8, 7, 6, 5, 1, 2, 3, 4]))"
   ]
  },
  {
   "cell_type": "code",
   "execution_count": 77,
   "id": "electoral-checkout",
   "metadata": {},
   "outputs": [
    {
     "data": {
      "text/plain": [
       "18"
      ]
     },
     "execution_count": 77,
     "metadata": {},
     "output_type": "execute_result"
    }
   ],
   "source": [
    "def Coins_max(arr):\n",
    "    arr.sort() ## Сортируем массив\n",
    "    a = len(arr)//3 ## Целочисленное деление длины на 3\n",
    "    me = 0\n",
    "    while a < len(arr):\n",
    "        me = me + arr[a]\n",
    "        a = a + 2\n",
    "    return (me)\n",
    "Coins_max([9,8,7,6,5,1,2,3,4])"
   ]
  },
  {
   "cell_type": "markdown",
   "id": "elder-shareware",
   "metadata": {},
   "source": [
    "# Задача «Шарики и стрелы»"
   ]
  },
  {
   "cell_type": "markdown",
   "id": "convenient-dancing",
   "metadata": {},
   "source": [
    "Некоторые сферические шарики распределены по двухмерному пространству. Для каждого\n",
    "шарика даны x-координаты начала и конца его горизонтального диаметра. Так как пространство\n",
    "двумерно, то y-координаты не имеют значения в данной задаче. Координата xstart всегда меньше\n",
    "xend.\n",
    "Стрелу можно выстрелить строго вертикально (вдоль y-оси) из разных точек x-оси. Шарик\n",
    "с координатами xstart и xend уничтожается стрелой, если она была выпущена из такой позиции\n",
    "x, что xstart ⩽ x ⩽ xend. Когда стрела выпущена, она летит в пространстве бесконечное время\n",
    "(уничтожая все шарики на пути).\n",
    "Дан массив points, где points[i] = [xstart, xend]. Напишите функцию, возвращаю\u0002щую минимальное количество стрел, которые нужно выпустить, чтобы уничтожить все шари\u0002ки."
   ]
  },
  {
   "cell_type": "code",
   "execution_count": 80,
   "id": "subtle-walnut",
   "metadata": {},
   "outputs": [
    {
     "name": "stdout",
     "output_type": "stream",
     "text": [
      "[[1, 2], [3, 4], [5, 6], [7, 8]]\n",
      "4\n"
     ]
    }
   ],
   "source": [
    "class shariki:\n",
    "    def __init__(self, mass):\n",
    "        self.mass=mass\n",
    "        self.count=1\n",
    "    \n",
    "    def search(self):\n",
    "        if len(self.mass)==0:\n",
    "            self.count=0\n",
    "        else:\n",
    "            m=0\n",
    "            for i in range(len(self.mass)):\n",
    "                self.mass.sort()\n",
    "            print(self.mass)\n",
    "            for i in range(len(self.mass)-1):\n",
    "                if self.mass[m][1]<self.mass[i+1][0]:\n",
    "                    self.count=self.count+1\n",
    "                    m=i+1\n",
    "                elif self.mass[m][0]<=self.mass[i+1][0] and self.mass[m][1]>=self.mass[i+1][1]:\n",
    "                       m=i+1\n",
    "                    \n",
    "        return self.count\n",
    "            \n",
    "arr = [[1,2],[3,4],[5,6],[7,8]]        \n",
    "a = shariki(arr)\n",
    "print(a.search())"
   ]
  },
  {
   "cell_type": "markdown",
   "id": "hearing-truck",
   "metadata": {},
   "source": [
    "# Задача «Объединение отрезков»"
   ]
  },
  {
   "cell_type": "markdown",
   "id": "christian-parking",
   "metadata": {},
   "source": [
    "Дан массив отрезков intervals, в котором intervals[i] = [starti, endi], некоторые\n",
    "отрезки могут пересекаться. Напишите функцию, которая объединяет все пересекающиеся отрезки в один и возвращает новый массив непересекающихся отрезков.\n"
   ]
  },
  {
   "cell_type": "code",
   "execution_count": 127,
   "id": "driving-warrant",
   "metadata": {},
   "outputs": [
    {
     "data": {
      "text/plain": [
       "[[1, 6], [8, 10], [15, 18]]"
      ]
     },
     "execution_count": 127,
     "metadata": {},
     "output_type": "execute_result"
    }
   ],
   "source": [
    "def union_of_lines(interv):\n",
    "    interv.sort()\n",
    "    i=0\n",
    "    while i <len(interv)-1:\n",
    "        if interv[i][1]>=interv[i+1][0]:\n",
    "            a=interv.pop(0)\n",
    "            b=interv.pop(0)\n",
    "            interv.insert(0, [a[0],b[1]])\n",
    "        else:\n",
    "            i+=1\n",
    "    return interv\n",
    "\n",
    "union_of_lines([[1,3],[2,6],[8,10],[15,18]])"
   ]
  },
  {
   "cell_type": "markdown",
   "id": "occasional-fitness",
   "metadata": {},
   "source": [
    "# Вывод"
   ]
  },
  {
   "cell_type": "markdown",
   "id": "surface-journal",
   "metadata": {},
   "source": [
    "В ходе данной курсовой работы были решены задачи, с использованием алгоритмов для обработки данных, например, массивов, строк и др. Были решены зададачи по массивам (нахождение максимального периметра треугольника, сортировка диагоналей матрицы и тд.), строкам (нахождение самой длинной палиндромной подстроки в строке, нахождение количества отдельных подстрок текста и тд.), а так же задачи на логику и закрепление материала: \"монетки\", \"шарики и стрелы\" и \"объединение отрезков\"."
   ]
  }
 ],
 "metadata": {
  "kernelspec": {
   "display_name": "Python 3",
   "language": "python",
   "name": "python3"
  },
  "language_info": {
   "codemirror_mode": {
    "name": "ipython",
    "version": 3
   },
   "file_extension": ".py",
   "mimetype": "text/x-python",
   "name": "python",
   "nbconvert_exporter": "python",
   "pygments_lexer": "ipython3",
   "version": "3.9.1"
  }
 },
 "nbformat": 4,
 "nbformat_minor": 5
}

{
 "cells": [
  {
   "cell_type": "markdown",
   "id": "worth-certification",
   "metadata": {},
   "source": [
    "# Лабораторная работа 4. Реализация стека/дека. "
   ]
  },
  {
   "cell_type": "markdown",
   "id": "cheap-mobility",
   "metadata": {},
   "source": [
    "## Реализовать следующие структуры данных:\n",
    "## ● Стек (stack):\n",
    "##    операции для стека: инициализация, проверка на пустоту, добавление\n",
    "##    нового элемента в начало, извлечение элемента из начала;\n",
    "## ● Дек (двусторонняя очередь, deque):\n",
    "##    операции для дека: инициализация, проверка на пустоту, добавление\n",
    "##    нового элемента в начало, добавление нового элемента в конец,\n",
    "##    извлечение элемента из начала, извлечение элемента из конца.\n"
   ]
  },
  {
   "cell_type": "markdown",
   "id": "illegal-revolution",
   "metadata": {},
   "source": [
    "# Задание:\n",
    "## Разработать программу обработки данных, содержащихся в заранее подготовленном txt-файле, в соответствии с заданиями, применив указанную в задании структуру данных. Результат работы программы вывести на экран и сохранить в отдельном txt-файле."
   ]
  },
  {
   "cell_type": "markdown",
   "id": "informal-torture",
   "metadata": {},
   "source": [
    "# СТЕК"
   ]
  },
  {
   "cell_type": "code",
   "execution_count": 3,
   "id": "necessary-compression",
   "metadata": {},
   "outputs": [],
   "source": [
    "## Верхний элемент стека находится в конце списка\n",
    "class Stack:\n",
    "    ## Создание списка\n",
    "    def __init__(self):\n",
    "         self.items = []\n",
    "    ## Проверка на наличие элементов с списке       \n",
    "    def isEmpty(self):\n",
    "         return len(self.items)==0\n",
    "    ## Рост стека, добавление элемента в конец списка    \n",
    "    def push(self, item):\n",
    "         self.items.append(item)\n",
    "    ## Списковый метод, который удаляет последний элемент списка        \n",
    "    def pop(self):\n",
    "         return self.items.pop()\n",
    "    ## Возвращает последний элемент    \n",
    "    def peek(self):\n",
    "        if self.isEmpty():\n",
    "            return None\n",
    "        else:\n",
    "            return self.items[-1]\n",
    "    ## Возращает длину списка   \n",
    "    def __len__(self):\n",
    "         return len(self.items)\n"
   ]
  },
  {
   "cell_type": "markdown",
   "id": "verified-beverage",
   "metadata": {},
   "source": [
    "# ДЕК"
   ]
  },
  {
   "cell_type": "code",
   "execution_count": 65,
   "id": "federal-county",
   "metadata": {},
   "outputs": [],
   "source": [
    "class Deque:\n",
    "    ## Создание списка\n",
    "    def __init__(self):\n",
    "        self.items = []\n",
    "    ## Проверка на пустоту\n",
    "    def isEmpty(self):\n",
    "        return len(self.items)==0\n",
    "    ## Добавление элементов вправо\n",
    "    def add_Right(self, item):\n",
    "        self.items.append(item)\n",
    "    ## Добавление элементов влево    \n",
    "    def add_Left(self, item):\n",
    "        self.items.insert(0,item)\n",
    "    ## Удаление первого элемента списка    \n",
    "    def removeRight(self):\n",
    "        return self.items.pop()\n",
    "    ## Удаление последнего элемента списка\n",
    "    def removeLeft(self):\n",
    "        return self.items.pop(0)\n",
    "    ## Возвращает первый элемент\n",
    "    def peek_left(self):\n",
    "        if self.isEmpty():\n",
    "            return None\n",
    "        else:\n",
    "            return self.items[0]\n",
    "    ## Возвращает последний элемент\n",
    "    def peek_right(self):\n",
    "        if self.isEmpty():\n",
    "            return None\n",
    "        else:\n",
    "            return self.items[-1]\n",
    "    ## Возвращает длину списка\n",
    "    def __len__(self):\n",
    "        return len(self.items)"
   ]
  },
  {
   "cell_type": "markdown",
   "id": "bearing-education",
   "metadata": {},
   "source": [
    "# Задание № 1"
   ]
  },
  {
   "cell_type": "markdown",
   "id": "undefined-stewart",
   "metadata": {},
   "source": [
    "1. Отсортировать строки файла, содержащие названия книг, в алфавитном порядке с использованием двух деков"
   ]
  },
  {
   "cell_type": "code",
   "execution_count": 5,
   "id": "demonstrated-cement",
   "metadata": {},
   "outputs": [],
   "source": [
    "import copy\n",
    "import codecs\n",
    "#чтение и запись в файл\n",
    "\n",
    "# Вывод из файла в стек\n",
    "def add_with_Stack(file):\n",
    "    st=Stack()\n",
    "    try:\n",
    "        f=open(file,'r', encoding=\"utf-8\")\n",
    "        t=f.readlines()\n",
    "        f.close()\n",
    "        for i in range(len(t)):\n",
    "            st.add(t[i])\n",
    "        return st\n",
    "    except:\n",
    "        print(\"Ошибка-1, не удалось найти файл\")\n",
    "\n",
    "        \n",
    "# Вывод файла в переменную типа string\n",
    "def add_with_str(file):\n",
    "    rez=\"\"\n",
    "    try:\n",
    "        f=codecs.open(file+'.txt', 'r', encoding='utf-8')\n",
    "        t=f.readlines()\n",
    "        f.close()\n",
    "        for i in range(len(t)):\n",
    "            rez=rez+t[i]\n",
    "        return rez\n",
    "    except:\n",
    "        print(\"Ошибка-2, не удалось найти файл\")\n",
    "        \n",
    "# Вывод из файла в дек\n",
    "def add_with_Deque(file):\n",
    "    st = Deque()\n",
    "    try:\n",
    "        f=codecs.open(file+'.txt', 'r', encoding='utf-8')\n",
    "        t=f.readlines()\n",
    "        f.close()\n",
    "        for i in range(len(t)):\n",
    "            st.add_Left(t[i])\n",
    "        return st\n",
    "    except:\n",
    "        print(\"Ошибка-3, не удалось найти файл\")\n",
    "\n",
    "# Запись из дека в файл\n",
    "def add_file(file, Deque):\n",
    "    try:\n",
    "        f=open(file,\"w\", encoding=\"utf-8\")\n",
    "        while not Deque.isEmpty():\n",
    "            f.write(Deque.removeLeft())\n",
    "        f.close()\n",
    "    except:\n",
    "        print(\"Ошибка\")\n",
    "        return None\n",
    "\n",
    "def add_file_Stack(file, Stack):\n",
    "    try:\n",
    "        f=open(file,'w', encoding=\"utf-8\")\n",
    "        while not Stack.isEmpty():\n",
    "            f.write(Stack.pop())\n",
    "        f.close()\n",
    "    except:\n",
    "        print(\"Ошибка\")\n",
    "        return None\n",
    "\n",
    "# Ввод из переменной в файл\n",
    "def add_file_str(file, text):\n",
    "    try:\n",
    "        f=open(file+'.txt',\"w\", encoding=\"utf-8\")\n",
    "        f.write(text)\n",
    "        f.close()\n",
    "    except:\n",
    "        print(\"Ошибка\")\n",
    "        return None"
   ]
  },
  {
   "cell_type": "code",
   "execution_count": 88,
   "id": "seven-tender",
   "metadata": {},
   "outputs": [
    {
     "name": "stdout",
     "output_type": "stream",
     "text": [
      "None\n",
      "hello world!\n"
     ]
    }
   ],
   "source": [
    "s=\"hello world!\"\n",
    "print(add_file_str('rezult', s))\n",
    "print(add_with_str('rezult'))"
   ]
  },
  {
   "cell_type": "code",
   "execution_count": 66,
   "id": "fantastic-injection",
   "metadata": {},
   "outputs": [
    {
     "name": "stdout",
     "output_type": "stream",
     "text": [
      "Введите название исходного файла zadanie1\n",
      "Введите название файла в который хотите записать результат rez1\n",
      "\n",
      "\n",
      "\n",
      "\n",
      "\n",
      "\n",
      "\n",
      "\n",
      "1984\n",
      "\n",
      "Кладбище домашних животных\n",
      "\n",
      "Мы\n",
      "\n",
      "Над пропастью во ржи\n",
      "Оно\n",
      "\n"
     ]
    }
   ],
   "source": [
    "def zadanie1(file_res, file_rezult):\n",
    "    st1=add_with_Deque(file_res)\n",
    "    if st1==None:\n",
    "        return\n",
    "    st2= Deque()\n",
    "    while not st1.isEmpty():\n",
    "        el=st1.removeLeft()\n",
    "        while not st2.isEmpty() and st2.peek_left()<el:\n",
    "            st1.add_Right(st2.removeLeft())\n",
    "        st2.add_Left(el)\n",
    "    \n",
    "    add_file(file_rezult, copy.deepcopy(st2))\n",
    "    return st2\n",
    "            \n",
    "file_one=input(\"Введите название исходного файла \")\n",
    "file_two=input(\"Введите название файла в который хотите записать результат \")\n",
    "r=zadanie1(file_one, file_two)\n",
    "if r is not None:\n",
    "    while not r.isEmpty():\n",
    "        print(r.removeLeft())"
   ]
  },
  {
   "cell_type": "markdown",
   "id": "differential-watts",
   "metadata": {},
   "source": [
    "# Задание № 2"
   ]
  },
  {
   "cell_type": "markdown",
   "id": "fallen-vinyl",
   "metadata": {},
   "source": [
    "2. Дек содержит последовательность символов для шифровки сообщений. Дан\n",
    "текстовый файл, содержащий зашифрованное сообщение. Пользуясь деком,\n",
    "расшифровать текст. Известно, что при шифровке каждый символ сообщения\n",
    "заменялся следующим за ним в деке по часовой стрелке через один."
   ]
  },
  {
   "cell_type": "code",
   "execution_count": 114,
   "id": "vietnamese-happening",
   "metadata": {},
   "outputs": [],
   "source": [
    "import random\n",
    "def Shifr():\n",
    "    alphabet = list('абвгдеёжзийклмнопрстуфхцчшщъыьэюя')\n",
    "    random.shuffle(alphabet)\n",
    "    alphabet = ''.join(alphabet)\n",
    "    #print(alphabet)\n",
    "    keyRing = Deque()\n",
    "    for letter in alphabet:\n",
    "        keyRing.add_Right(letter)\n",
    "    return keyRing"
   ]
  },
  {
   "cell_type": "code",
   "execution_count": 115,
   "id": "binding-tyler",
   "metadata": {},
   "outputs": [],
   "source": [
    "# Зашифровываем сообщение из файла\n",
    "def encode(file, keyRing):\n",
    "    text=add_with_str(file)\n",
    "    if text is None:\n",
    "        return\n",
    "    encode_text=''\n",
    "    for i in range(len(text)):\n",
    "        t=text[i]\n",
    "        #print(text)\n",
    "        #print(t)\n",
    "        if t==\" \":\n",
    "            encode_text=encode_text+\" \"\n",
    "            continue\n",
    "        while not keyRing.isEmpty():\n",
    "            key=keyRing.removeLeft()\n",
    "            if key==t:\n",
    "                keyRing.add_Right(key)\n",
    "                r=keyRing.removeLeft()\n",
    "                encode_text=encode_text+r\n",
    "                keyRing.add_Right(r)\n",
    "                break\n",
    "            keyRing.add_Right(key)\n",
    "    add_file_str(file, encode_text)\n",
    "\n",
    "def decode(file, keyRing):\n",
    "    encode_text=add_with_str(file)\n",
    "    if encode_text is None:\n",
    "        return\n",
    "    decode_text=''\n",
    "    for i in range(len(encode_text)):\n",
    "        enc=encode_text[i]\n",
    "        if enc==\" \":\n",
    "            decode_text=decode_text+\" \"\n",
    "        while not keyRing.isEmpty():\n",
    "            key=keyRing.removeRight()\n",
    "            if key==enc:\n",
    "                keyRing.add_Left(key)\n",
    "                r=keyRing.removeRight()\n",
    "                decode_text=decode_text+r\n",
    "                keyRing.add_Left(r)\n",
    "                break\n",
    "            keyRing.add_Left(key)\n",
    "    add_file_str('zadanie2', decode_text)\n",
    "keyR = Shifr() #создаем кодировку\n",
    "encode('zadanie2', keyR)\n",
    "decode('zadanie2', keyR)"
   ]
  },
  {
   "cell_type": "markdown",
   "id": "harmful-helena",
   "metadata": {},
   "source": [
    "# Задание № 3"
   ]
  },
  {
   "cell_type": "markdown",
   "id": "married-translation",
   "metadata": {},
   "source": [
    "3. Даны три стержня и n дисков различного размера. Диски можно надевать на стержни, образуя из них башни. Перенести n дисков со стержня А на стержень С, сохранив их первоначальный порядок. При переносе дисков необходимо соблюдать следующие правила: \n",
    "- на каждом шаге со стержня на стержень переносить только один диск;\n",
    "- диск нельзя помещать на диск меньшего размера; \n",
    "- для промежуточного хранения можно использовать стержень В. \n",
    "Реализовать алгоритм, используя три стека вместо стержней А, В, С. Информация о дисках хранится в исходном файле. "
   ]
  },
  {
   "cell_type": "code",
   "execution_count": 6,
   "id": "saving-change",
   "metadata": {},
   "outputs": [
    {
     "name": "stdout",
     "output_type": "stream",
     "text": [
      "15\n",
      "10\n",
      "3\n",
      "2\n",
      "1\n",
      "len 5\n",
      "0 0 5\n",
      "1\n",
      "2\n",
      "3\n",
      "10\n",
      "15\n"
     ]
    }
   ],
   "source": [
    "def move(a,b):\n",
    "    if a.isEmpty() and not b.isEmpty():\n",
    "        a.push(b.pop())\n",
    "    elif  not a.isEmpty() and b.isEmpty():\n",
    "        b.push(a.pop())\n",
    "    elif a.isEmpty() and b.isEmpty():\n",
    "        return\n",
    "    elif a.peek()>b.peek():\n",
    "        a.push(b.pop())\n",
    "    else:\n",
    "        b.push(a.pop())       \n",
    "def zadanie_3(file):\n",
    "    A=Stack()\n",
    "    B=Stack()\n",
    "    C=Stack()\n",
    "    st=add_with_str(file)\n",
    "    if st is None:\n",
    "        return\n",
    "    disk=st.split(\" \")\n",
    "    for i in range(len(disk)):\n",
    "        print(disk[i])\n",
    "        A.push(int(disk[i]))\n",
    "    print(\"len\",len(disk))   \n",
    "    if len(disk)%2==0:\n",
    "        while len(C) is not len(disk):\n",
    "            move(A, B)\n",
    "            move(A, C)\n",
    "            if len(C) is not len(disk):\n",
    "                move(B, C)\n",
    "    else:\n",
    "        while len(C) is not len(disk):\n",
    "            move(A, C)\n",
    "            move(A, B)\n",
    "            if len(C) is not len(disk):\n",
    "                move(B, C)\n",
    "                \n",
    "    print(len(A), len(B), len(C))\n",
    "    for i in range(len(C)):\n",
    "            print(C.pop())   \n",
    "zadanie_3('zadanie3')"
   ]
  },
  {
   "cell_type": "markdown",
   "id": "selected-mission",
   "metadata": {},
   "source": [
    "# Задание № 4"
   ]
  },
  {
   "cell_type": "markdown",
   "id": "twelve-outside",
   "metadata": {},
   "source": [
    "4. Дан текстовый файл с программой на алгоритмическом языке. За один просмотр файла проверить баланс круглых скобок в тексте, используя стек."
   ]
  },
  {
   "cell_type": "code",
   "execution_count": 7,
   "id": "constitutional-operator",
   "metadata": {},
   "outputs": [
    {
     "name": "stdout",
     "output_type": "stream",
     "text": [
      "True\n"
     ]
    }
   ],
   "source": [
    "def zadanie_4(file):\n",
    "    s=Stack()\n",
    "    st=add_with_str(file)\n",
    "    if st is None:\n",
    "        return\n",
    "    for i in st:\n",
    "        if i=='(':\n",
    "            s.add(i)\n",
    "        elif i==')':\n",
    "            if s.isEmpty():\n",
    "                return False\n",
    "            s.pop()\n",
    "    return s.isEmpty()\n",
    "print(zadanie_4('zadanie4'))"
   ]
  },
  {
   "cell_type": "markdown",
   "id": "matched-lodge",
   "metadata": {},
   "source": [
    "# Задание № 5"
   ]
  },
  {
   "cell_type": "markdown",
   "id": "guilty-award",
   "metadata": {},
   "source": [
    "5. Дан текстовый файл с программой на алгоритмическом языке. За один просмотр файла проверить баланс квадратных скобок в тексте, используя дек."
   ]
  },
  {
   "cell_type": "code",
   "execution_count": 10,
   "id": "graduate-luxury",
   "metadata": {},
   "outputs": [
    {
     "name": "stdout",
     "output_type": "stream",
     "text": [
      "True\n"
     ]
    }
   ],
   "source": [
    "def zadanie_5(file):\n",
    "    s = Deque()\n",
    "    st = add_with_str(file)\n",
    "    if st is None:\n",
    "        return\n",
    "    for i in st:\n",
    "        if i=='[':\n",
    "            s.add_Right(i)\n",
    "        elif i==']':\n",
    "            if s.isEmpty():\n",
    "                return False\n",
    "            s.removeLeft()\n",
    "    return s.isEmpty()\n",
    "print(zadanie_5('zadanie5'))"
   ]
  },
  {
   "cell_type": "markdown",
   "id": "overhead-digest",
   "metadata": {},
   "source": [
    "# Задание № 6"
   ]
  },
  {
   "cell_type": "markdown",
   "id": "reserved-viewer",
   "metadata": {},
   "source": [
    "6. Дан файл из символов. Используя стек, за один просмотр файла напечатать сначала все цифры, затем все буквы, и, наконец, все остальные символы, сохраняя исходный порядок в каждой группе символов."
   ]
  },
  {
   "cell_type": "code",
   "execution_count": 11,
   "id": "tender-retail",
   "metadata": {},
   "outputs": [
    {
     "name": "stdout",
     "output_type": "stream",
     "text": [
      "Цифры, содержащиеся в тексте:\n",
      "False\n",
      "1316484787\n",
      "Буквы, содержащиеся в тексте:\n",
      "rghwirghwogheghowguh\n",
      "Другие символы, содержащиеся в тексте:\n",
      "!)) :(\n"
     ]
    }
   ],
   "source": [
    "def zadanie_6(file):\n",
    "    cifri = Stack()\n",
    "    bukvi = Stack()\n",
    "    symbols = Stack()\n",
    "    st=add_with_str(file)\n",
    "    if st is None:\n",
    "        return\n",
    "    i=len(st)-1\n",
    "    while i>=0:\n",
    "        if st[i].isalpha():\n",
    "            bukvi.push(st[i])\n",
    "        elif st[i].isdigit():\n",
    "            cifri.push(st[i])\n",
    "        else:\n",
    "            symbols.push(st[i])\n",
    "        i=i-1\n",
    "    print(\"Цифры, содержащиеся в тексте:\")\n",
    "    d=\"\"\n",
    "    print(cifri.isEmpty())\n",
    "    while not cifri.isEmpty():\n",
    "        d=d+cifri.pop()\n",
    "    print(d)\n",
    "    d=\"\"\n",
    "    print(\"Буквы, содержащиеся в тексте:\")\n",
    "    while not bukvi.isEmpty():\n",
    "        d=d+bukvi.pop()\n",
    "    print(d)\n",
    "    d=\"\"\n",
    "    print(\"Другие символы, содержащиеся в тексте:\")\n",
    "    while not symbols.isEmpty():\n",
    "        d=d+symbols.pop()\n",
    "    print(d)\n",
    "zadanie_6('zadanie6')"
   ]
  },
  {
   "cell_type": "markdown",
   "id": "affected-uganda",
   "metadata": {},
   "source": [
    "# Задание № 7"
   ]
  },
  {
   "cell_type": "markdown",
   "id": "worse-dialogue",
   "metadata": {},
   "source": [
    "7. Дан файл из целых чисел. Используя дек, за один просмотр файла напечатать сначала все отрицательные числа, затем все положительные числа, сохраняя исходный порядок в каждой группе."
   ]
  },
  {
   "cell_type": "code",
   "execution_count": 28,
   "id": "determined-agreement",
   "metadata": {},
   "outputs": [
    {
     "name": "stdout",
     "output_type": "stream",
     "text": [
      "-60\n",
      "-71\n",
      "-11\n",
      "-28\n",
      "15\n",
      "48\n",
      "20\n",
      "47\n"
     ]
    }
   ],
   "source": [
    "def zadanie_7(file):\n",
    "    rez = Deque()\n",
    "    st = add_with_str(file)\n",
    "    if st is None:\n",
    "        return\n",
    "    mas = st.split(\" \")\n",
    "    mas_ = list()\n",
    "    for i in mas:\n",
    "        mas_.append(int(i))\n",
    "    for i in mas_:\n",
    "       ## print(i)\n",
    "        if i>= 0:\n",
    "            rez.add_Right(i)\n",
    "        else:\n",
    "            if rez.isEmpty and rez.peek_left()>=0:\n",
    "                rez.add_Left(i)\n",
    "            else:\n",
    "                while rez.peek_left() < 0:\n",
    "                    rez.add_Right(rez.removeLeft())\n",
    "                rez.add_Left(i)\n",
    "                while rez.peek_right() < 0:\n",
    "                    rez.add_Left(rez.removeRight())\n",
    "                \n",
    "    while not rez.isEmpty():\n",
    "        print(rez.removeLeft())\n",
    "zadanie_7('zadanie7')"
   ]
  },
  {
   "cell_type": "markdown",
   "id": "racial-conversation",
   "metadata": {},
   "source": [
    "# Задание № 8"
   ]
  },
  {
   "cell_type": "markdown",
   "id": "precise-qatar",
   "metadata": {},
   "source": [
    "8. Дан текстовый файл. Используя стек, сформировать новый текстовый файл, содержащий строки исходного файла, записанные в обратном порядке: первая строка становится последней, вторая – предпоследней и т.д.\n",
    " "
   ]
  },
  {
   "cell_type": "code",
   "execution_count": 6,
   "id": "accessible-jumping",
   "metadata": {},
   "outputs": [
    {
     "name": "stdout",
     "output_type": "stream",
     "text": [
      "Ошибка-1, не удалось найти файл\n"
     ]
    }
   ],
   "source": [
    "def Task_8(file, file_rez):\n",
    "    steks=add_with_Stack(file)\n",
    "    if steks is None:\n",
    "        return\n",
    "    add_file_Stack(file_rez, steks)\n",
    "    \n",
    "Task_8('zadanie8.txt','rezult_8.txt')\n"
   ]
  },
  {
   "cell_type": "markdown",
   "id": "weird-furniture",
   "metadata": {},
   "source": [
    "# Задание № 9"
   ]
  },
  {
   "cell_type": "markdown",
   "id": "dedicated-updating",
   "metadata": {},
   "source": [
    "9. Дан текстовый файл. Используя стек, вычислить значение логического выражения,\n",
    "записанного в текстовом файле в следующей форме:\n",
    "< ЛВ > ::= T | F | (N<ЛВ>) | (<ЛВ>A<ЛВ>) | (<ЛВ>X<ЛВ>) | (<ЛВ>O<ЛВ>),\n",
    "где буквами обозначены логические константы и операции:\n",
    "T – True, F – False, N – Not, A – And, X – Xor, O – Or."
   ]
  },
  {
   "cell_type": "code",
   "execution_count": 49,
   "id": "expired-resource",
   "metadata": {},
   "outputs": [
    {
     "name": "stdout",
     "output_type": "stream",
     "text": [
      "T\n",
      "F\n",
      "T\n",
      "F\n"
     ]
    }
   ],
   "source": [
    "def zadanie_9(file):\n",
    "    opstek=Stack()\n",
    "    vstek=Stack()\n",
    "    st=file\n",
    "    i=0\n",
    "    while i<len(st):\n",
    "        \n",
    "        if st[i]=='(':\n",
    "            vstek.push(st[i])\n",
    "            i=i+1\n",
    "        elif st[i]==')':\n",
    "            vstek.pop()\n",
    "            i=i+1\n",
    "        elif st[i]=='N' or st[i]=='A' or st[i]=='X' or st[i]=='O':\n",
    "            vstek.push(st[i])\n",
    "            i=i+1\n",
    "            continue\n",
    "        elif st[i]=='T':\n",
    "            opstek.push(st[i])\n",
    "            i=i+1\n",
    "        elif st[i]=='F':\n",
    "            opstek.push(st[i])\n",
    "            i=i+1              \n",
    "        if vstek.peek()=='A':\n",
    "            #print(\"Зашел в А\", len(opstek))\n",
    "            \n",
    "            a=opstek.pop()\n",
    "            b=opstek.pop()\n",
    "            #print(\"Зашел в А\", i, len(opstek))\n",
    "            if a=='T' and b =='T':\n",
    "                opstek.push('T')\n",
    "            else:\n",
    "                opstek.push('F')\n",
    "            vstek.pop()\n",
    "                \n",
    "        elif vstek.peek()=='X':\n",
    "            a=opstek.pop()\n",
    "            b=opstek.pop()\n",
    "            if (a=='T' and b =='T') or (a=='F' and b =='F'):\n",
    "                opstek.push('F')\n",
    "            else:\n",
    "                opstek.push('T')\n",
    "            vstek.pop()\n",
    "                \n",
    "        elif vstek.peek()=='O':\n",
    "            a=opstek.pop()\n",
    "            b=opstek.pop()\n",
    "            if a=='T' or b=='T':\n",
    "                opstek.push('T')\n",
    "            else:\n",
    "                opstek.push('F')\n",
    "            vstek.pop()\n",
    "        elif vstek.peek()=='N':\n",
    "            a=opstek.pop()\n",
    "            if a=='T':\n",
    "                opstek.push('F')\n",
    "            else:\n",
    "                opstek.push('T')\n",
    "            vstek.pop()\n",
    "                    \n",
    "    print(opstek.pop())\n",
    "                    \n",
    "                    \n",
    "                    \n",
    "zadanie_9('TOF')\n",
    "zadanie_9('TAF')\n",
    "zadanie_9('((F)XF)X(FAT)OT')\n",
    "zadanie_9('((F)XF)A(FAT)OF')"
   ]
  },
  {
   "cell_type": "markdown",
   "id": "accomplished-terminology",
   "metadata": {},
   "source": [
    "# Задание № 10"
   ]
  },
  {
   "cell_type": "markdown",
   "id": "female-granny",
   "metadata": {},
   "source": [
    "10. Дан текстовый файл. В текстовом файле записана формула следующего вида:\n",
    "<Формула> ::= <Цифра> | M(<Формула>,<Формула>) | N(Формула>,<Формула>)\n",
    "< Цифра > ::= 0 | 1 | 2 | 3 | 4 | 5 | 6 | 7 | 8 | 9\n",
    "где буквами обозначены функции:\n",
    "M – определение максимума, N – определение минимума.\n",
    "Используя стек, вычислить значение заданного выражения."
   ]
  },
  {
   "cell_type": "code",
   "execution_count": 65,
   "id": "hired-ordering",
   "metadata": {},
   "outputs": [
    {
     "name": "stdout",
     "output_type": "stream",
     "text": [
      "28\n"
     ]
    }
   ],
   "source": [
    "def zadanie_10(st):\n",
    "    op = Stack()\n",
    "    nums = Stack()\n",
    "    file=add_with_str(st)\n",
    "    num = ''\n",
    "    cur = 0\n",
    "    while cur < len(file):\n",
    "        i = file[cur]\n",
    "        if i.isdigit():\n",
    "            num += i\n",
    "        elif num != '':\n",
    "            nums.push(int(num))\n",
    "            num = ''\n",
    "        if i in 'MN':\n",
    "            op.push(i)\n",
    "        cur += 1\n",
    "\n",
    "    while not op.isEmpty():\n",
    "        a = nums.pop()\n",
    "        b = nums.pop()\n",
    "        if a < b:\n",
    "            a,b = b,a\n",
    "        if op.pop() == 'M':\n",
    "            nums.push(a)\n",
    "        else:\n",
    "            nums.push(b)\n",
    "\n",
    "    while not nums.isEmpty():\n",
    "        print(nums.pop())\n",
    "zadanie_10('zadanie10')"
   ]
  },
  {
   "cell_type": "markdown",
   "id": "sought-benefit",
   "metadata": {},
   "source": [
    "# Задание № 11"
   ]
  },
  {
   "cell_type": "markdown",
   "id": "alpha-functionality",
   "metadata": {},
   "source": [
    "11. Дан текстовый файл. Используя стек, проверить, является ли содержимое\n",
    "текстового файла правильной записью формулы вида:\n",
    "< Формула > ::= < Терм > | < Терм > + < Формула > | < Терм > - < Формула >\n",
    "< Терм > ::= < Имя > | (< Формула >)\n",
    "< Имя > ::= x | y | z"
   ]
  },
  {
   "cell_type": "code",
   "execution_count": 26,
   "id": "political-arkansas",
   "metadata": {},
   "outputs": [
    {
     "data": {
      "text/plain": [
       "True"
      ]
     },
     "execution_count": 26,
     "metadata": {},
     "output_type": "execute_result"
    }
   ],
   "source": [
    "def zadanie_11(file):\n",
    "    steks= Stack()\n",
    "    #st=add_with_str(file)\n",
    "    st=file\n",
    "    for i in range(len(st)):\n",
    "        if st[i]=='(':\n",
    "            steks.push(st[i])\n",
    "        elif st[i]==')':\n",
    "            s=steks.pop()\n",
    "            steks.pop()\n",
    "            steks.push(s)\n",
    "        elif st[i] in '+-':\n",
    "            if steks.peek()=='name' or steks.peek()=='formula':\n",
    "                steks.push(st[i])\n",
    "            else:\n",
    "                return False\n",
    "        elif st[i] in 'xyz':\n",
    "            \n",
    "            if (not steks.isEmpty()) and steks.peek() in '+-':\n",
    "                steks.pop()\n",
    "                steks.pop()\n",
    "                steks.push('formula')\n",
    "            else:\n",
    "                steks.push('name')\n",
    "        \n",
    "        if steks.peek()=='formula':\n",
    "            steks.pop()\n",
    "            if not steks.isEmpty():\n",
    "                if steks.peek() in '+-':\n",
    "                    steks.pop()\n",
    "                    steks.pop()\n",
    "            steks.push('formula')\n",
    "            \n",
    "    if len(steks)==1 and steks.pop()=='formula':\n",
    "        return True\n",
    "    else:\n",
    "        return False\n",
    "    \n",
    "zadanie_11('x+y+z+x+y+z')"
   ]
  },
  {
   "cell_type": "markdown",
   "id": "turkish-audit",
   "metadata": {},
   "source": [
    "# Вывод\n",
    "## В ходе данной лабораторной работы были изучены алгоритмы стека и дека, что позволило разработать программу для обработки данных, результат которой представляется в txt-файле."
   ]
  }
 ],
 "metadata": {
  "kernelspec": {
   "display_name": "Python 3",
   "language": "python",
   "name": "python3"
  },
  "language_info": {
   "codemirror_mode": {
    "name": "ipython",
    "version": 3
   },
   "file_extension": ".py",
   "mimetype": "text/x-python",
   "name": "python",
   "nbconvert_exporter": "python",
   "pygments_lexer": "ipython3",
   "version": "3.9.1"
  }
 },
 "nbformat": 4,
 "nbformat_minor": 5
}

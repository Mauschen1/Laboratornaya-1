{
 "cells": [
  {
   "cell_type": "markdown",
   "id": "internal-terrorism",
   "metadata": {},
   "source": [
    "# Лабораторная работа № 3\n",
    "# Задача № 1\n",
    "## Реализовать методы поиска подстроки в строке. Добавить возможность ввода строки и подстроки с клавиатуры. Предусмотреть возможность существования пробела. Реализовать возможность выбора опции чувствительности или нечувствительности к регистру. Оценить время работы каждого алгоритма поиска и сравнить его со временем работы стандартной функции поиска, используемой в выбранном языке программирования. "
   ]
  },
  {
   "cell_type": "markdown",
   "id": "saved-active",
   "metadata": {},
   "source": [
    "## 1. Алгоритм Кнута-Морриса-Пратта"
   ]
  },
  {
   "cell_type": "code",
   "execution_count": 1,
   "id": "coordinated-latest",
   "metadata": {},
   "outputs": [
    {
     "name": "stdout",
     "output_type": "stream",
     "text": [
      "Введите строку:  уиуаааауаааиу\n",
      "Введите подстроку:  иу\n",
      "Найдено!: иу. Индекс начала подстроки: 1\n"
     ]
    }
   ],
   "source": [
    "## Функция для создания префикса\n",
    "def prefix(s):\n",
    "    P = [0]*len(s) ## Массив для префикса\n",
    "    j = 0 ## Переменная для массива префиксов\n",
    "    i = 1 ## Индекс подстроки\n",
    "## Цикл на длину строки для нахождения префиксa\n",
    "    while i < len(s):\n",
    "        if s[j] != s[i]:\n",
    "            if j > 0:\n",
    "                j = P[j-1]\n",
    "            else:           # j == 0\n",
    "                i += 1\n",
    "        else:               # s[j] == s[i]\n",
    "            P[i] = j + 1\n",
    "            i += 1\n",
    "            j += 1\n",
    "\n",
    "    return P \n",
    "## Алгоритм Кнтта-Морриса-Пратта\n",
    "def kmp(sub:str, s:str):\n",
    "    k = 0 ## Индекс строки\n",
    "    l = 0 ## Индекс подстроки\n",
    "    P = prefix(sub) \n",
    "## Цикл по строке\n",
    "    while k < len(s):\n",
    "        if sub[l] == s[k]: ## пока равны элементы, счетчик увеличивается\n",
    "            k += 1\n",
    "            l += 1\n",
    "## Если Л равно длине подстроки, возвращаем индекс этого Лтого элемента\n",
    "            if l == len(sub):\n",
    "                return k - len(sub)\n",
    "## Если элемент не совпал с Лтым, то сбрасывается Л и увеличиваем К\n",
    "        elif l > 0:\n",
    "            l = P[l-1]\n",
    "        else:\n",
    "            k += 1\n",
    "\n",
    "    return -1\n",
    "\n",
    "s = input(\"Введите строку:  \")\n",
    "sub = input(\"Введите подстроку:  \")\n",
    "lsub = len(sub)\n",
    "index = kmp(sub, s)\n",
    "print(f\"Найдено!: {s[index:index+lsub]}. Индекс начала подстроки: {index}\")"
   ]
  },
  {
   "cell_type": "markdown",
   "id": "separated-chancellor",
   "metadata": {},
   "source": [
    "## 2. Упрощенный Бойера-Мура "
   ]
  },
  {
   "cell_type": "code",
   "execution_count": 29,
   "id": "interested-ancient",
   "metadata": {},
   "outputs": [
    {
     "name": "stdout",
     "output_type": "stream",
     "text": [
      "Введите строку: длорпавы\n",
      "Введите подстроку: рпа\n",
      "\n",
      "Нашли. Число смещений равно 1.\n"
     ]
    }
   ],
   "source": [
    "## Функция таблицы смещений\n",
    "def forming_d(pattern):\n",
    "    d = [len(pattern) for i in range(1105)] ## массив таблицы смещений\n",
    "    new_p = pattern[::-1] ## весь список \n",
    "## Цикл \n",
    "    for i in range(len(new_p)):\n",
    "        if d[ord(new_p[i])] != len(new_p):\n",
    "            continue\n",
    "        else:\n",
    "            d[ord(new_p[i])] = i\n",
    "    return d\n",
    "## Алгоритм Бойера-Мура\n",
    "def search(string, pattern):\n",
    "\n",
    "    d = forming_d(pattern)\n",
    "    # x - начало прохода по string\n",
    "    # j - проход по pattern\n",
    "    # k - проход по string\n",
    "    len_p = x = j = k = len(pattern)\n",
    "    # число смещений\n",
    "    counter = 0\n",
    "## Цикл по строке\n",
    "    while x <= len(string) and j > 0:\n",
    "        if pattern[j - 1] == string[k - 1]:\n",
    "            j -= 1\n",
    "            k -= 1\n",
    "        else:\n",
    "            x += d[ord(string[k - 1])]\n",
    "            k = x\n",
    "            j = len_p\n",
    "            counter += 1\n",
    " \n",
    "    if j <= 0:\n",
    "        return \"Нашли. Число смещений равно %d.\" % counter\n",
    "    else:\n",
    "        return \"Не нашли!\"\n",
    "string = input(\"Введите строку: \")\n",
    "pattern = input(\"Введите подстроку: \")\n",
    "print(\"\")\n",
    "print(search(string, pattern))"
   ]
  },
  {
   "cell_type": "markdown",
   "id": "industrial-virus",
   "metadata": {},
   "source": [
    "# Задание № 2 «Пятнашки» \n",
    "## Написать программу, определяющую, является ли данное расположение «решаемым», то есть можно ли из него за конечное число шагов перейти к правильному. Если это возможно, то необходимо найти хотя бы одно решение - последовательность движений, после которой числа будут расположены в правильном порядке. "
   ]
  },
  {
   "cell_type": "code",
   "execution_count": 6,
   "id": "middle-power",
   "metadata": {},
   "outputs": [
    {
     "name": "stdout",
     "output_type": "stream",
     "text": [
      "True\n"
     ]
    }
   ],
   "source": [
    "import math\n",
    "def search_resh(mass): # Проверка существуюет ли решение \n",
    "    summ=int(0)\n",
    "    for i in range(len(mass)):\n",
    "        for j in range(i, len(mass)):\n",
    "            if mass[i]==0:\n",
    "                summ=summ+math.floor((i+1)/4) ## считает, где должна быть пустая ячейка\n",
    "            elif mass[i]>mass[j]:\n",
    "                summ=summ+1\n",
    "    if summ%2==0:\n",
    "        return True\n",
    "    return False\n",
    "\n",
    "\"\"\"def search(mass):\n",
    "    if search_resh(mass):\n",
    "        \n",
    "    else:\n",
    "        return []\"\"\"\n",
    "mass=[15,2,1,12,8,5,6,11,4,9,10,7,3,14,13,0]\n",
    "print(search_resh(mass))"
   ]
  },
  {
   "cell_type": "code",
   "execution_count": 7,
   "id": "instructional-slave",
   "metadata": {},
   "outputs": [
    {
     "name": "stdout",
     "output_type": "stream",
     "text": [
      "[15, 14, 10, 13, 9, 10, 14, 15]\n"
     ]
    }
   ],
   "source": [
    "from queue import PriorityQueue\n",
    "\n",
    "N = 4\n",
    "## метод переставления вверх-вниз-всторону\n",
    "def moves(position):\n",
    "    blank = position.index(0)\n",
    "    i, j = divmod(blank, N)\n",
    "    offsets = []\n",
    "    if i > 0: offsets.append(-N)     # вниз\n",
    "    if i < N - 1: offsets.append(N)  # вверх\n",
    "    if j > 0: offsets.append(-1)     # вправо\n",
    "    if j < N - 1: offsets.append(1)  # влево\n",
    "    for offset in offsets:\n",
    "        swap = blank + offset\n",
    "        yield tuple(position[swap] if x==blank else position[blank] if x==swap else position[x] for x in range(N*N))\n",
    "\n",
    "\n",
    "class Position:\n",
    "    def __init__(self, position, start_distance):\n",
    "        self.position = position\n",
    "        self.start_distance = start_distance\n",
    "\n",
    "    def __lt__(self, other):\n",
    "        return self.start_distance < other.start_distance\n",
    "\n",
    "\n",
    "SOLVED = (1, 2, 3, 4, 5, 6, 7, 8, 9, 10, 11, 12, 13, 14, 15, 0) ## необходимая позиция пятнашек\n",
    "\n",
    "start = [1, 2, 3, 4, 5, 6, 7, 8, 13, 9, 11, 12, 10, 14, 15, 0] ## нерешенная позиция пятнашек\n",
    "\n",
    "if search_resh(start):\n",
    "    print('Нерешаемая позиция')\n",
    "else:\n",
    "    # картеж\n",
    "    start = tuple(start)\n",
    "    p = Position(start, 0)\n",
    "    # очередь \n",
    "    candidates = PriorityQueue()\n",
    "    candidates.put(p)\n",
    "    # множество \n",
    "    visited = set([p])\n",
    "\n",
    "    came_from = {p.position: None}\n",
    "    \n",
    "    while p.position != SOLVED:\n",
    "        p = candidates.get()\n",
    "        for k in moves(p.position):\n",
    "            if k not in visited:\n",
    "                candidates.put(Position(k, p.start_distance + 1))\n",
    "                came_from[k] = p\n",
    "                visited.add(k)\n",
    "    path = []\n",
    "    prev = p\n",
    "    while p.position != start:\n",
    "        p = came_from[p.position]\n",
    "        number = p.position[prev.position.index(0)]\n",
    "        path.append(number)\n",
    "        prev = p\n",
    "    path.reverse()\n",
    "\n",
    "    print(path)"
   ]
  },
  {
   "cell_type": "markdown",
   "id": "disturbed-defendant",
   "metadata": {},
   "source": [
    "# Вывод\n",
    "## В ходе данной лабораторной работы были изучены следующие алгоритмы: "
   ]
  },
  {
   "cell_type": "markdown",
   "id": "sporting-bradley",
   "metadata": {},
   "source": [
    "## * Алгоритм поиска Кнута-Морриса-Пратта,\n",
    "## * Алгоритм поиска Бойера-Мура,\n",
    "## * А так же была разработана программа, которая реализует поиск хотя бы одного решения в игре \"Пятнашки\"."
   ]
  }
 ],
 "metadata": {
  "kernelspec": {
   "display_name": "Python 3",
   "language": "python",
   "name": "python3"
  },
  "language_info": {
   "codemirror_mode": {
    "name": "ipython",
    "version": 3
   },
   "file_extension": ".py",
   "mimetype": "text/x-python",
   "name": "python",
   "nbconvert_exporter": "python",
   "pygments_lexer": "ipython3",
   "version": "3.9.1"
  }
 },
 "nbformat": 4,
 "nbformat_minor": 5
}

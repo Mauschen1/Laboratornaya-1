{
 "cells": [
  {
   "cell_type": "markdown",
   "id": "internal-terrorism",
   "metadata": {},
   "source": [
    "# Лабораторная работа № 3\n",
    "# Задача № 1\n",
    "## Реализовать методы поиска подстроки в строке. Добавить возможность ввода строки и подстроки с клавиатуры. Предусмотреть возможность существования пробела. Реализовать возможность выбора опции чувствительности или нечувствительности к регистру. Оценить время работы каждого алгоритма поиска и сравнить его со временем работы стандартной функции поиска, используемой в выбранном языке программирования. "
   ]
  },
  {
   "cell_type": "markdown",
   "id": "saved-active",
   "metadata": {},
   "source": [
    "## 1. Алгоритм Кнута-Морриса-Пратта"
   ]
  },
  {
   "cell_type": "code",
   "execution_count": 3,
   "id": "funny-economics",
   "metadata": {},
   "outputs": [
    {
     "name": "stdout",
     "output_type": "stream",
     "text": [
      "у и у у у у у и и и и у и а р у и а п у и а п у р у а и у у и у а а|\n",
      "у и у а а                                                          | \u001b[31mbc: у, 1\u001b[0m, \u001b[32mgs: , 0\u001b[0m\n",
      "    у и у а а                                                      | \u001b[31mbc: у, 1\u001b[0m, \u001b[32mgs: , 0\u001b[0m\n",
      "        у и у а а                                                  | \u001b[31mbc: и, 2\u001b[0m, \u001b[32mgs: , 0\u001b[0m\n",
      "              у и у а а                                            | \u001b[31mbc: у, 1\u001b[0m, \u001b[32mgs: , 0\u001b[0m\n",
      "                  у и у а а                                        | \u001b[31mbc: и, 1\u001b[0m, \u001b[32mgs: а, 0\u001b[0m\n",
      "                      у и у а а                                    | \u001b[31mbc: у, 1\u001b[0m, \u001b[32mgs: , 0\u001b[0m\n",
      "                          у и у а а                                | \u001b[31mbc: и, 1\u001b[0m, \u001b[32mgs: а, 0\u001b[0m\n",
      "                              у и у а а                            | \u001b[31mbc: у, 1\u001b[0m, \u001b[32mgs: , 0\u001b[0m\n",
      "                                  у и у а а                        | \u001b[31mbc: и, 1\u001b[0m, \u001b[32mgs: а, 0\u001b[0m\n",
      "                                      у и у а а                    | \u001b[31mbc: у, 1\u001b[0m, \u001b[32mgs: , 0\u001b[0m\n",
      "                                          у и у а а                | \u001b[31mbc: у, 1\u001b[0m, \u001b[32mgs: , 0\u001b[0m\n",
      "                                              у и у а а            | \u001b[31mbc: и, 2\u001b[0m, \u001b[32mgs: , 0\u001b[0m\n",
      "                                                    у и у а а      | \u001b[31mbc: и, 2\u001b[0m, \u001b[32mgs: , 0\u001b[0m\n",
      "\u001b[32m                                                          у и у а а| MATCH\u001b[0m\n"
     ]
    }
   ],
   "source": [
    "def printLine(s, pad, offset, length):\n",
    "    t = [pad for _ in range(length+1)]\n",
    "    t[offset:offset+len(s)+1] = s\n",
    "    return t\n",
    "\n",
    "\n",
    "def gsSkip(p, gs):\n",
    "    len_p = len(p)\n",
    "    len_gs = len(gs)\n",
    "    offset = len_p - len_gs - 1\n",
    "    skip = 0\n",
    "    for i in range(offset, -1, -1): # alignments\n",
    "        s = p[max(0, i-len_gs+1):i+1]\n",
    "        len_s = len(s)\n",
    "        for j in range(len_s-1, -1, -1): # bases\n",
    "            if (s[j] != gs[j+len_gs-len_s]):\n",
    "                break\n",
    "            else:\n",
    "                if (j==0):\n",
    "                    skip = offset + len_gs - i - 1\n",
    "                    #print(\"i: %d, j: %d, offset: %d, gs: %d\" % (i, j, offset, len_gs))\n",
    "        if skip > 0:\n",
    "            break\n",
    "    #print(\"break: %d\" % skip)\n",
    "    return skip\n",
    "\n",
    "\n",
    "def bcSkip(p, offset, bc):\n",
    "    for j in range(offset-1, -1, -1):\n",
    "        #print(p, offset, bc, j)\n",
    "        if (p[j] == bc):\n",
    "            return offset-j-1\n",
    "    return offset\n",
    "\n",
    "\n",
    "def bmSteps(p, t):\n",
    "    print(\"%s|\" % ' '.join([t[i] for i in range(len(t))]))\n",
    "    algn = 0\n",
    "    while algn < len(t)-len(p)+1:\n",
    "        s = printLine(p, ' ', algn, len(t))\n",
    "        for offset in range(len(p)-1, -1, -1):\n",
    "            gs_skip = 0\n",
    "            bc_skip = 0\n",
    "            gs = ''\n",
    "            bc = ''\n",
    "            #print(algn, offset, t[offset+algn], s[offset+algn])\n",
    "            if t[offset+algn] != s[offset+algn]:\n",
    "                bc = t[offset+algn]\n",
    "                bc_skip = bcSkip(p, offset, bc)\n",
    "                gs = p[offset+1:]\n",
    "                if (len(gs)>0):\n",
    "                    gs_skip = gsSkip(p, gs)\n",
    "                algn += max(bc_skip, gs_skip)\n",
    "                print(\"%s| \\x1b[31mbc: %s, %d\\x1b[0m, \\x1b[32mgs: %s, %d\\x1b[0m\" % (' '.join([s[i] for i in range(len(s))]), \n",
    "                                         bc, \n",
    "                                         bc_skip,\n",
    "                                         ''.join([gs[i] for i in range(len(gs))]),\n",
    "                                         gs_skip\n",
    "                                        ))\n",
    "                break\n",
    "            else:\n",
    "                if (bc == '') and (offset == 0):\n",
    "                    print(\"\\x1b[32m%s| MATCH\\x1b[0m\" % ' '.join([s[i] for i in range(len(s))]))\n",
    "                    break\n",
    "        algn += 1\n",
    "p = 'уиуаа'\n",
    "t = 'уиуууууииииуиаруиапуиапуруаиууиуаа'\n",
    "bmSteps(p, t)"
   ]
  },
  {
   "cell_type": "markdown",
   "id": "separated-chancellor",
   "metadata": {},
   "source": [
    "## 2. Упрощенный Бойера-Мура "
   ]
  },
  {
   "cell_type": "code",
   "execution_count": 16,
   "id": "random-stevens",
   "metadata": {},
   "outputs": [
    {
     "name": "stdout",
     "output_type": "stream",
     "text": [
      "Введите строку: babbbcbabcabbcbabc\n",
      "Введите подстроку: bbbcba\n",
      "\n",
      "Нашли. Число смещений равно 1.\n",
      "Нажмите Enter, чтобы выйти.\n"
     ]
    },
    {
     "data": {
      "text/plain": [
       "''"
      ]
     },
     "execution_count": 16,
     "metadata": {},
     "output_type": "execute_result"
    }
   ],
   "source": [
    "def forming_d(pattern):\n",
    "    \"\"\" Формируем массив d.\"\"\"\n",
    "    d = [len(pattern) for i in range(256)]\n",
    "    new_p = pattern[::-1]\n",
    " \n",
    "    for i in range(len(new_p)):\n",
    "        if d[ord(new_p[i])] != len(new_p):\n",
    "            continue\n",
    "        else:\n",
    "            d[ord(new_p[i])] = i\n",
    "    return d\n",
    "def search(string, pattern):\n",
    "    \"\"\" Поиск Бойера - Мура.\"\"\"\n",
    " \n",
    "    d = forming_d(pattern)\n",
    "    # x - начало прохода по string\n",
    "    # j - проход по pattern\n",
    "    # k - проход по string\n",
    "    len_p = x = j = k = len(pattern)\n",
    "    # число смещений\n",
    "    counter = 0\n",
    "    while x <= len(string) and j > 0:\n",
    "        if pattern[j - 1] == string[k - 1]:\n",
    "            j -= 1\n",
    "            k -= 1\n",
    "        else:\n",
    "            x += d[ord(string[k - 1])]\n",
    "            k = x\n",
    "            j = len_p\n",
    "            counter += 1\n",
    "    if j <= 0:\n",
    "        return \"Нашли. Число смещений равно %d.\" % counter\n",
    "    else:\n",
    "        return \"Не нашли!\"\n",
    "string = input(\"Введите строку: \")\n",
    "pattern = input(\"Введите подстроку: \")\n",
    "print(\"\")\n",
    "print(search(string, pattern))\n",
    "input(\"Нажмите Enter, чтобы выйти.\")"
   ]
  },
  {
   "cell_type": "markdown",
   "id": "industrial-virus",
   "metadata": {},
   "source": [
    "# Задание № 2 «Пятнашки» \n",
    "## Написать программу, определяющую, является ли данное расположение «решаемым», то есть можно ли из него за конечное число шагов перейти к правильному. Если это возможно, то необходимо найти хотя бы одно решение - последовательность движений, после которой числа будут расположены в правильном порядке. "
   ]
  },
  {
   "cell_type": "code",
   "execution_count": 6,
   "id": "middle-power",
   "metadata": {},
   "outputs": [
    {
     "name": "stdout",
     "output_type": "stream",
     "text": [
      "True\n"
     ]
    }
   ],
   "source": [
    "import math\n",
    "def search_resh(mass): # Проверка существуюет ли решение \n",
    "    summ=int(0)\n",
    "    for i in range(len(mass)):\n",
    "        for j in range(i, len(mass)):\n",
    "            if mass[i]==0:\n",
    "                summ=summ+math.floor((i+1)/4)\n",
    "            elif mass[i]>mass[j]:\n",
    "                summ=summ+1\n",
    "    if summ%2==0:\n",
    "        return True\n",
    "    return False\n",
    "#\n",
    "\"\"\"def search(mass):\n",
    "    if search_resh(mass):\n",
    "        \n",
    "    else:\n",
    "        return []\"\"\"\n",
    "mass=[15,2,1,12,8,5,6,11,4,9,10,7,3,14,13,0]\n",
    "print(search_resh(mass))"
   ]
  },
  {
   "cell_type": "code",
   "execution_count": 7,
   "id": "instructional-slave",
   "metadata": {},
   "outputs": [
    {
     "name": "stdout",
     "output_type": "stream",
     "text": [
      "[15, 14, 10, 13, 9, 10, 14, 15]\n"
     ]
    }
   ],
   "source": [
    "from queue import PriorityQueue\n",
    "\n",
    "N = 4\n",
    "\n",
    "def moves(position):\n",
    "    blank = position.index(0)\n",
    "    i, j = divmod(blank, N)\n",
    "    offsets = []\n",
    "    if i > 0: offsets.append(-N)     # вниз\n",
    "    if i < N - 1: offsets.append(N)  # вверх\n",
    "    if j > 0: offsets.append(-1)     # вправо\n",
    "    if j < N - 1: offsets.append(1)  # влево\n",
    "    for offset in offsets:\n",
    "        swap = blank + offset\n",
    "        yield tuple(position[swap] if x==blank else position[blank] if x==swap else position[x] for x in range(N*N))\n",
    "\n",
    "\n",
    "class Position:\n",
    "    def __init__(self, position, start_distance):\n",
    "        self.position = position\n",
    "        self.start_distance = start_distance\n",
    "\n",
    "    def __lt__(self, other):\n",
    "        return self.start_distance < other.start_distance\n",
    "\n",
    "\n",
    "SOLVED = (1, 2, 3, 4, 5, 6, 7, 8, 9, 10, 11, 12, 13, 14, 15, 0)\n",
    "\n",
    "start = [1, 2, 3, 4, 5, 6, 7, 8, 13, 9, 11, 12, 10, 14, 15, 0]\n",
    "\n",
    "if search_resh(start):\n",
    "    print('Нерешаемая позиция')\n",
    "else:\n",
    "    # картеж\n",
    "    start = tuple(start)\n",
    "    p = Position(start, 0)\n",
    "    # очередь \n",
    "    candidates = PriorityQueue()\n",
    "    candidates.put(p)\n",
    "    # множество \n",
    "    visited = set([p])\n",
    "\n",
    "    came_from = {p.position: None}\n",
    "    \n",
    "    while p.position != SOLVED:\n",
    "        p = candidates.get()\n",
    "        for k in moves(p.position):\n",
    "            if k not in visited:\n",
    "                candidates.put(Position(k, p.start_distance + 1))\n",
    "                came_from[k] = p\n",
    "                visited.add(k)\n",
    "    path = []\n",
    "    prev = p\n",
    "    while p.position != start:\n",
    "        p = came_from[p.position]\n",
    "        number = p.position[prev.position.index(0)]\n",
    "        path.append(number)\n",
    "        prev = p\n",
    "    path.reverse()\n",
    "\n",
    "    print(path)"
   ]
  },
  {
   "cell_type": "code",
   "execution_count": null,
   "id": "adapted-success",
   "metadata": {},
   "outputs": [],
   "source": []
  }
 ],
 "metadata": {
  "kernelspec": {
   "display_name": "Python 3",
   "language": "python",
   "name": "python3"
  },
  "language_info": {
   "codemirror_mode": {
    "name": "ipython",
    "version": 3
   },
   "file_extension": ".py",
   "mimetype": "text/x-python",
   "name": "python",
   "nbconvert_exporter": "python",
   "pygments_lexer": "ipython3",
   "version": "3.9.1"
  }
 },
 "nbformat": 4,
 "nbformat_minor": 5
}

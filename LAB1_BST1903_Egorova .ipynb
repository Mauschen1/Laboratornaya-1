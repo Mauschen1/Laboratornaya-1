{
 "cells": [
  {
   "cell_type": "markdown",
   "id": "capital-temperature",
   "metadata": {},
   "source": [
    "# Лабораторная работа № 1\n",
    "## Выполнила студентка группы БСТ1903\n",
    "### Егорова Юлия \n",
    "#### Написать код и вывести фразу \"Привет, Мир!\""
   ]
  },
  {
   "cell_type": "code",
   "execution_count": 61,
   "id": "severe-draft",
   "metadata": {},
   "outputs": [
    {
     "name": "stdout",
     "output_type": "stream",
     "text": [
      "Hello, World!\n"
     ]
    }
   ],
   "source": [
    "print(\"Hello, World!\")"
   ]
  },
  {
   "cell_type": "markdown",
   "id": "mechanical-character",
   "metadata": {},
   "source": [
    "# Задание № 2\n",
    "## Генератор случайных многомерных матриц"
   ]
  },
  {
   "cell_type": "code",
   "execution_count": 62,
   "id": "latest-independence",
   "metadata": {},
   "outputs": [
    {
     "name": "stdout",
     "output_type": "stream",
     "text": [
      "[-209, 574, -161, 841, 786]\n",
      "[693, 608, 226, -11, 292]\n",
      "[247, -231, 836, 707, 890]\n",
      "[362, 886, -71, 713, -52]\n",
      "[626, 191, 303, 875, 491]\n"
     ]
    }
   ],
   "source": [
    "from random import randint\n",
    "n, m = 5, 5\n",
    "min_lim = -250\n",
    "max_lim = 1005\n",
    "a = [[randint(min_lim,max_lim) for j in range(m)] for i in range(n)]\n",
    "for r in a:\n",
    "    print(r)"
   ]
  },
  {
   "attachments": {
    "image.png": {
     "image/png": "[encoded data removed]"
    }
   },
   "cell_type": "markdown",
   "id": "corporate-crack",
   "metadata": {},
   "source": [
    "# Задание № 3\n",
    "## Реализация методов сортировки\n",
    "### Реализовать методы сортировки строк числовой матрицы в соответствии с заданием. Оценить время работы каждого алгоритма сортировки и сравнить его со временем стандартной функции сортировки. Методы: ![image.png](attachment:image.png)\n",
    "#### Сортировка выбором"
   ]
  },
  {
   "cell_type": "code",
   "execution_count": 63,
   "id": "filled-hands",
   "metadata": {},
   "outputs": [
    {
     "name": "stdout",
     "output_type": "stream",
     "text": [
      "Исходный массив:\n",
      "[966, -99, 581, 929, 372, -192, -73, 741, 466, 493, 865, -43, -207, 740, -243, 936, 987, 231, 358, 4]\n",
      "Результирующий массив:\n",
      "[-243, -207, -192, -99, -73, -43, 4, 231, 358, 372, 466, 493, 581, 740, 741, 865, 929, 936, 966, 987]\n",
      "Время выполнения функции\n",
      "9.390000013809185e-05 секунд\n"
     ]
    }
   ],
   "source": [
    "def selection_sort(nums):  \n",
    "    for i in range(len(nums)):\n",
    "        lowest_value_index = i\n",
    "        for j in range(i + 1, len(nums)):\n",
    "            if nums[j] < nums[lowest_value_index]:\n",
    "                lowest_value_index = j\n",
    "        nums[i], nums[lowest_value_index] = nums[lowest_value_index], nums[i]\n",
    "from random import randint\n",
    "n = 20\n",
    "min_lim = -250\n",
    "max_lim = 1005\n",
    "a=[randint(min_lim,max_lim) for i in range(n)]\n",
    "print (\"Исходный массив:\")\n",
    "print(a)\n",
    "selection_sort(a) \n",
    "print (\"Результирующий массив:\")\n",
    "print(a)\n",
    "import timeit \n",
    "def test1():\n",
    "    res = [[3 for x in range(50)] for x in range(50)]\n",
    "print(\"Время выполнения функции\")\n",
    "print(timeit.timeit(\"test1()\", setup=\"from __main__ import test1\", number=1), \"секунд\")"
   ]
  },
  {
   "cell_type": "markdown",
   "id": "efficient-mechanics",
   "metadata": {},
   "source": [
    "# Сортировка вставкой "
   ]
  },
  {
   "cell_type": "code",
   "execution_count": 64,
   "id": "warming-startup",
   "metadata": {},
   "outputs": [
    {
     "name": "stdout",
     "output_type": "stream",
     "text": [
      "Исходный массив:\n",
      "[527, 5, 646, 633, 213, 631, 34, 414, 264, -47, 380, 795, 618, -56, 405, 838, 137, 639, 202, 939]\n",
      "Результирующий массив:\n",
      "[-56, -47, 5, 34, 137, 202, 213, 264, 380, 405, 414, 527, 618, 631, 633, 639, 646, 795, 838, 939]\n",
      "Время выполнения функции\n",
      "9.339999996882398e-05 секунд\n"
     ]
    }
   ],
   "source": [
    "def insertion_sort(nums):  \n",
    "    for i in range(1, len(nums)):\n",
    "        item_to_insert = nums[i]\n",
    "        j = i - 1\n",
    "        while j >= 0 and nums[j] > item_to_insert:\n",
    "            nums[j + 1] = nums[j]\n",
    "            j -= 1\n",
    "        nums[j + 1] = item_to_insert\n",
    "from random import randint\n",
    "n = 20\n",
    "min_lim = -250\n",
    "max_lim = 1005\n",
    "a=[randint(min_lim,max_lim) for i in range(n)]\n",
    "print (\"Исходный массив:\")\n",
    "print(a)\n",
    "insertion_sort(a)\n",
    "print (\"Результирующий массив:\")\n",
    "print(a)\n",
    "import timeit \n",
    "def test1():\n",
    "    res = [[3 for x in range(50)] for x in range(50)]\n",
    "print(\"Время выполнения функции\")\n",
    "print(timeit.timeit(\"test1()\", setup=\"from __main__ import test1\", number=1), \"секунд\")"
   ]
  },
  {
   "cell_type": "markdown",
   "id": "hundred-usage",
   "metadata": {},
   "source": [
    "# Сортировка Шелла"
   ]
  },
  {
   "cell_type": "code",
   "execution_count": 65,
   "id": "middle-professor",
   "metadata": {},
   "outputs": [
    {
     "name": "stdout",
     "output_type": "stream",
     "text": [
      "Исходный массив:\n",
      "[251, 281, 647, 359, 391, 672, 883, 302, 122, 5, 966, 5, -68, 604, 893, 338, 622, 513, 163, -47]\n",
      "Результирующий массив:\n",
      "[-68, -47, 5, 5, 122, 163, 251, 281, 302, 338, 359, 391, 513, 604, 622, 647, 672, 883, 893, 966]\n",
      "Время выполнения функции\n",
      "9.480000016992562e-05 секунд\n"
     ]
    }
   ],
   "source": [
    "def shell(data):\n",
    "    inc = len(data) // 2\n",
    "    while inc:\n",
    "        for i, el in enumerate(data):\n",
    "            while i >= inc and data[i - inc] > el:\n",
    "                data[i] = data[i - inc]\n",
    "                i -= inc\n",
    "            data[i] = el\n",
    "        inc = 1 if inc == 2 else int(inc * 5.0 / 11)\n",
    "    return data\n",
    "from random import randint\n",
    "n = 20\n",
    "min_lim = -250\n",
    "max_lim = 1005\n",
    "a=[randint(min_lim,max_lim) for i in range(n)]\n",
    "print (\"Исходный массив:\")\n",
    "print(a)\n",
    "shell(a)\n",
    "print (\"Результирующий массив:\")\n",
    "print(a)\n",
    "import timeit \n",
    "def test1():\n",
    "    res = [[3 for x in range(50)] for x in range(50)]\n",
    "print(\"Время выполнения функции\")\n",
    "print(timeit.timeit(\"test1()\", setup=\"from __main__ import test1\", number=1), \"секунд\")"
   ]
  },
  {
   "cell_type": "markdown",
   "id": "controlled-soldier",
   "metadata": {},
   "source": [
    "# Пирамидальная сортировка"
   ]
  },
  {
   "cell_type": "code",
   "execution_count": 69,
   "id": "liberal-projector",
   "metadata": {},
   "outputs": [
    {
     "name": "stdout",
     "output_type": "stream",
     "text": [
      "Исходный массив:\n",
      "[-209, -104, 367, 539, -69, -140, -164, -229, 974, 814, 290, -34, 632, 983, 966, 804, 249, 916, 243, 391]\n",
      "Результирующий массив:\n",
      "[-229, -209, -164, -140, -104, -69, -34, 243, 249, 290, 367, 391, 539, 632, 804, 814, 916, 966, 974, 983]\n",
      "Время выполнения функции\n",
      "9.59999997576233e-05 секунд\n"
     ]
    }
   ],
   "source": [
    "def heapify(nums, heap_size, root_index):  \n",
    "    largest = root_index\n",
    "    left_child = (2 * root_index) + 1\n",
    "    right_child = (2 * root_index) + 2\n",
    "    if left_child < heap_size and nums[left_child] > nums[largest]:\n",
    "        largest = left_child\n",
    "    if right_child < heap_size and nums[right_child] > nums[largest]:\n",
    "        largest = right_child\n",
    "    if largest != root_index:\n",
    "        nums[root_index], nums[largest] = nums[largest], nums[root_index]\n",
    "        heapify(nums, heap_size, largest)\n",
    "def heap_sort(nums):  \n",
    "    n = len(nums)\n",
    "    for i in range(n, -1, -1):\n",
    "        heapify(nums, n, i)\n",
    "    for i in range(n - 1, 0, -1):\n",
    "        nums[i], nums[0] = nums[0], nums[i]\n",
    "        heapify(nums, i, 0)\n",
    "from random import randint\n",
    "n = 20\n",
    "min_lim = -250\n",
    "max_lim = 1005\n",
    "a=[randint(min_lim,max_lim) for i in range(n)]\n",
    "print (\"Исходный массив:\")\n",
    "print(a)\n",
    "heap_sort(a)  \n",
    "print (\"Результирующий массив:\")\n",
    "print(a)\n",
    "import timeit \n",
    "def test1():\n",
    "    res = [[3 for x in range(50)] for x in range(50)]\n",
    "print(\"Время выполнения функции\")\n",
    "print(timeit.timeit(\"test1()\", setup=\"from __main__ import test1\", number=1), \"секунд\")"
   ]
  },
  {
   "cell_type": "markdown",
   "id": "injured-porter",
   "metadata": {},
   "source": [
    "# Быстрая сортировка"
   ]
  },
  {
   "cell_type": "code",
   "execution_count": 67,
   "id": "adjacent-membership",
   "metadata": {},
   "outputs": [
    {
     "name": "stdout",
     "output_type": "stream",
     "text": [
      "Исходный массив:\n",
      "[142, -31, 237, -26, 125, 77, 737, -178, 316, 507, -7, 845, 83, 956, 983, -105, -235, 738, 826, -225]\n",
      "Результирующий массив:\n",
      "[-235, -225, -178, -105, -31, -26, -7, 77, 83, 125, 142, 237, 316, 507, 737, 738, 826, 845, 956, 983]\n",
      "Время выполнения функции\n",
      "9.4600000011269e-05 секунд\n"
     ]
    }
   ],
   "source": [
    "def partition(nums, low, high):  \n",
    "    pivot = nums[(low + high) // 2]\n",
    "    i = low - 1\n",
    "    j = high + 1\n",
    "    while True:\n",
    "        i += 1\n",
    "        while nums[i] < pivot:\n",
    "            i += 1\n",
    "        j -= 1\n",
    "        while nums[j] > pivot:\n",
    "            j -= 1\n",
    "        if i >= j:\n",
    "            return j\n",
    "        nums[i], nums[j] = nums[j], nums[i]\n",
    "def quick_sort(nums):  \n",
    "    def _quick_sort(items, low, high):\n",
    "        if low < high:\n",
    "            split_index = partition(items, low, high)\n",
    "            _quick_sort(items, low, split_index)\n",
    "            _quick_sort(items, split_index + 1, high)\n",
    "    _quick_sort(nums, 0, len(nums) - 1)\n",
    "from random import randint\n",
    "n = 20\n",
    "min_lim = -250\n",
    "max_lim = 1005\n",
    "a=[randint(min_lim,max_lim) for i in range(n)]\n",
    "print (\"Исходный массив:\")\n",
    "print(a)\n",
    "quick_sort(a)  \n",
    "print (\"Результирующий массив:\")\n",
    "print(a)\n",
    "import timeit \n",
    "def test1():\n",
    "    res = [[3 for x in range(50)] for x in range(50)]\n",
    "print(\"Время выполнения функции\")\n",
    "print(timeit.timeit(\"test1()\", setup=\"from __main__ import test1\", number=1), \"секунд\")"
   ]
  },
  {
   "cell_type": "markdown",
   "id": "mental-calvin",
   "metadata": {},
   "source": [
    "# Сортировка обменом"
   ]
  },
  {
   "cell_type": "code",
   "execution_count": 70,
   "id": "ranging-slovenia",
   "metadata": {},
   "outputs": [
    {
     "name": "stdout",
     "output_type": "stream",
     "text": [
      "Исходный массив:\n",
      "[343, 107, 101, 94, 142, -167, 50, 20, 217, -78, 753, -29, 802, -208, 276, 303, -209, 192, 132, 733]\n",
      "Результирующий массив:\n",
      "[-209, -208, -167, -78, -29, 20, 50, 94, 101, 107, 132, 142, 192, 217, 276, 303, 343, 733, 753, 802]\n",
      "Время выполнения функции\n",
      "9.280000040234881e-05 секунд\n"
     ]
    }
   ],
   "source": [
    "def bubble_sort(nums):  \n",
    "    swapped = True\n",
    "    while swapped:\n",
    "        swapped = False\n",
    "        for i in range(len(nums) - 1):\n",
    "                    if nums[i] > nums[i + 1]:\n",
    "                        nums[i], nums[i + 1] = nums[i + 1], nums[i]\n",
    "                        swapped = True\n",
    "from random import randint\n",
    "n = 20\n",
    "min_lim = -250\n",
    "max_lim = 1005\n",
    "a=[randint(min_lim,max_lim) for i in range(n)]\n",
    "print (\"Исходный массив:\")\n",
    "print(a)\n",
    "bubble_sort(a)  \n",
    "print (\"Результирующий массив:\")\n",
    "print(a) \n",
    "import timeit \n",
    "def test1():\n",
    "    res = [[3 for x in range(50)] for x in range(50)]\n",
    "print(\"Время выполнения функции\")\n",
    "print(timeit.timeit(\"test1()\", setup=\"from __main__ import test1\", number=1), \"секунд\")"
   ]
  },
  {
   "cell_type": "markdown",
   "id": "soviet-defense",
   "metadata": {},
   "source": [
    "# В результате выполнения данной лабораторной работы, было выявлено, что метод сортировки \"Обменом\" является более быстрым."
   ]
  }
 ],
 "metadata": {
  "kernelspec": {
   "display_name": "Python 3",
   "language": "python",
   "name": "python3"
  },
  "language_info": {
   "codemirror_mode": {
    "name": "ipython",
    "version": 3
   },
   "file_extension": ".py",
   "mimetype": "text/x-python",
   "name": "python",
   "nbconvert_exporter": "python",
   "pygments_lexer": "ipython3",
   "version": "3.9.1"
  }
 },
 "nbformat": 4,
 "nbformat_minor": 5
}
